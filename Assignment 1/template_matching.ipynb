{
 "cells": [
  {
   "cell_type": "markdown",
   "metadata": {},
   "source": [
    "# 3. Template Matching"
   ]
  },
  {
   "cell_type": "code",
   "execution_count": 29,
   "metadata": {},
   "outputs": [
    {
     "name": "stdout",
     "output_type": "stream",
     "text": [
      "(981, 1590, 3)\n",
      "[[[249 186 207]\n",
      "  [255 192 213]\n",
      "  [246 181 201]\n",
      "  ...\n",
      "  [ 26  27   0]\n",
      "  [ 78  89  73]\n",
      "  [178 196 206]]\n",
      "\n",
      " [[251 188 209]\n",
      "  [255 194 215]\n",
      "  [247 184 203]\n",
      "  ...\n",
      "  [ 59  60  18]\n",
      "  [ 15  23  10]\n",
      "  [179 195 210]]\n",
      "\n",
      " [[241 180 198]\n",
      "  [247 186 204]\n",
      "  [242 181 199]\n",
      "  ...\n",
      "  [129 128  82]\n",
      "  [ 20  26  16]\n",
      "  [ 61  72  92]]\n",
      "\n",
      " ...\n",
      "\n",
      " [[135 131 122]\n",
      "  [ 98  95  86]\n",
      "  [157 157 147]\n",
      "  ...\n",
      "  [ 35  23  25]\n",
      "  [142 130 130]\n",
      "  [ 77  67  65]]\n",
      "\n",
      " [[ 13  20   0]\n",
      "  [ 63  70  37]\n",
      "  [132 142 108]\n",
      "  ...\n",
      "  [ 83  72  68]\n",
      "  [ 80  70  71]\n",
      "  [ 91  85  89]]\n",
      "\n",
      " [[ 68  79  11]\n",
      "  [ 36  47   0]\n",
      "  [ 52  65   0]\n",
      "  ...\n",
      "  [ 59  46  37]\n",
      "  [ 20  11  12]\n",
      "  [ 39  33  43]]]\n",
      "362046\n"
     ]
    },
    {
     "ename": "IndexError",
     "evalue": "too many indices for array",
     "output_type": "error",
     "traceback": [
      "\u001b[0;31m---------------------------------------------------------------------------\u001b[0m",
      "\u001b[0;31mIndexError\u001b[0m                                Traceback (most recent call last)",
      "\u001b[0;32m<ipython-input-29-3259cf98b87d>\u001b[0m in \u001b[0;36m<module>\u001b[0;34m()\u001b[0m\n\u001b[1;32m     32\u001b[0m \u001b[0;34m\u001b[0m\u001b[0m\n\u001b[1;32m     33\u001b[0m \u001b[0;34m\u001b[0m\u001b[0m\n\u001b[0;32m---> 34\u001b[0;31m \u001b[0mssd\u001b[0m \u001b[0;34m=\u001b[0m \u001b[0mnp\u001b[0m\u001b[0;34m.\u001b[0m\u001b[0msum\u001b[0m\u001b[0;34m(\u001b[0m\u001b[0;34m(\u001b[0m\u001b[0mmatch1\u001b[0m\u001b[0;34m[\u001b[0m\u001b[0;34m:\u001b[0m\u001b[0;34m,\u001b[0m\u001b[0;34m:\u001b[0m\u001b[0;34m,\u001b[0m\u001b[0;36m0\u001b[0m\u001b[0;34m:\u001b[0m\u001b[0;36m3\u001b[0m\u001b[0;34m]\u001b[0m\u001b[0;34m-\u001b[0m\u001b[0mtemplate1\u001b[0m\u001b[0;34m[\u001b[0m\u001b[0;34m:\u001b[0m\u001b[0;34m,\u001b[0m\u001b[0;34m:\u001b[0m\u001b[0;34m,\u001b[0m\u001b[0;36m0\u001b[0m\u001b[0;34m:\u001b[0m\u001b[0;36m3\u001b[0m\u001b[0;34m]\u001b[0m\u001b[0;34m)\u001b[0m\u001b[0;34m**\u001b[0m\u001b[0;36m2\u001b[0m\u001b[0;34m)\u001b[0m\u001b[0;34m\u001b[0m\u001b[0m\n\u001b[0m\u001b[1;32m     35\u001b[0m \u001b[0;31m# Sets a threshold of 0.7 and finds the point that are over the\u001b[0m\u001b[0;34m\u001b[0m\u001b[0;34m\u001b[0m\u001b[0m\n\u001b[1;32m     36\u001b[0m \u001b[0;31m# threshold\u001b[0m\u001b[0;34m\u001b[0m\u001b[0;34m\u001b[0m\u001b[0m\n",
      "\u001b[0;31mIndexError\u001b[0m: too many indices for array"
     ]
    }
   ],
   "source": [
    "# Useful imports\n",
    "import cv2\n",
    "import numpy as np\n",
    "import matplotlib.pyplot as plt\n",
    "\n",
    "# Loads image of where is waldo\n",
    "waldo = cv2.imread(\"./where_is_waldo.jpg\")\n",
    "waldo = cv2.cvtColor(waldo, cv2.COLOR_BGR2RGB)\n",
    "\n",
    "# Makes a copy of the image\n",
    "waldo_copy1 = waldo.copy()\n",
    "\n",
    "# Loads picture of the Charlie's face as a template\n",
    "template1 = cv2.imread(\"template1.png\")\n",
    "template1 = cv2.cvtColor(template1, cv2.COLOR_BGR2RGB)\n",
    "\n",
    "# Gets the width and height of the template image\n",
    "height1, width1 = template1.shape[0:2]\n",
    "\n",
    "# Finds the SSD\n",
    "print(waldo.shape)\n",
    "print(waldo[0:37, 0:31, 0:3])\n",
    "ssd = np.sum((waldo[0:37, 0:31, 0:3]-template1[:,:,0:3])**2)\n",
    "\n",
    "\n",
    "print(ssd)\n",
    "\n",
    "for x in range(0,27):\n",
    "    for y in range (0,51)\n",
    "        ssd = np.sum((waldo[0:37, 0:31, 0:3]-template1[:,:,0:3])**2)\n",
    "\n",
    "# for patch in waldo[:, :, 0:3].arange(3441).reshape(37,31, 3)\n",
    "#     ssd = np.sum((patch-template1[:,:,0:3])**2)\n",
    "#     print(ssd)\n",
    "    \n",
    "\n",
    "ssd = np.sum((match1[:,:,0:3]-template1[:,:,0:3])**2)\n",
    "# Sets a threshold of 0.7 and finds the point that are over the \n",
    "# threshold\n",
    "THRESH1 = 0.7\n",
    "points1 = np.where(match1 >= THRESH1)\n",
    "\n",
    "# Draw a cyan rectangle around the match\n",
    "for point in zip(*points1[::-1]):\n",
    "    cv2.rectangle(waldo_copy1, point, (point[0]+width1, point[1]+height1), (0,255,255), 5)\n",
    "\n",
    "# Displays the matched image \n",
    "plt.figure(figsize=(20,20))\n",
    "plt.imshow(waldo_copy1)\n",
    "plt.title(\"Matched Image\"), plt.xticks([]), plt.yticks([])\n",
    "plt.show()"
   ]
  },
  {
   "cell_type": "code",
   "execution_count": null,
   "metadata": {},
   "outputs": [],
   "source": []
  }
 ],
 "metadata": {
  "kernelspec": {
   "display_name": "Python 3",
   "language": "python",
   "name": "python3"
  },
  "language_info": {
   "codemirror_mode": {
    "name": "ipython",
    "version": 3
   },
   "file_extension": ".py",
   "mimetype": "text/x-python",
   "name": "python",
   "nbconvert_exporter": "python",
   "pygments_lexer": "ipython3",
   "version": "3.6.5"
  }
 },
 "nbformat": 4,
 "nbformat_minor": 2
}
